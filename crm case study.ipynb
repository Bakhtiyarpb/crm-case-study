{
 "cells": [
  {
   "cell_type": "code",
   "execution_count": 31,
   "id": "52a6d076",
   "metadata": {},
   "outputs": [],
   "source": [
    "import pandas as pd\n",
    "import numpy as np\n",
    "from datetime import datetime\n",
    "import matplotlib.pyplot as plt\n",
    "from sklearn.metrics import roc_curve, auc\n",
    "from sklearn.metrics import accuracy_score, precision_score, recall_score, f1_score\n",
    "from scipy.stats import chi2\n",
    "from scipy import stats\n",
    "from scipy.stats import binom_test"
   ]
  },
  {
   "cell_type": "code",
   "execution_count": 2,
   "id": "3bbb692b",
   "metadata": {},
   "outputs": [
    {
     "name": "stderr",
     "output_type": "stream",
     "text": [
      "C:\\Users\\bsalahli\\AppData\\Local\\Temp\\ipykernel_6064\\2772797383.py:2: UserWarning: Parsing dates in %d.%m.%Y format when dayfirst=False (the default) was specified. Pass `dayfirst=True` or specify a format to silence this warning.\n",
      "  df['reporting_date'] = pd.to_datetime(df['reporting_date'])\n"
     ]
    }
   ],
   "source": [
    "df = pd.read_csv(r'C:\\Users\\bsalahli\\Intel\\modeling\\sample_data CRM.csv')\n",
    "df['reporting_date'] = pd.to_datetime(df['reporting_date'])"
   ]
  },
  {
   "cell_type": "code",
   "execution_count": 3,
   "id": "a7f8ef46",
   "metadata": {},
   "outputs": [
    {
     "name": "stdout",
     "output_type": "stream",
     "text": [
      "it is already adjusted for mrating\n",
      "it is already adjusted for mrating\n",
      "it is already adjusted for mrating\n",
      "it is already adjusted for mrating\n",
      "it is already adjusted for mrating\n",
      "it is already adjusted for mrating\n",
      "it is already adjusted for mrating\n",
      "it is already adjusted for mrating\n",
      "it is already adjusted for mrating\n",
      "it is already adjusted for mrating\n",
      "it is already adjusted for mrating\n",
      "it is already adjusted for mrating\n",
      "it is already adjusted for mrating\n",
      "it is already adjusted for mrating\n",
      "it is already adjusted for mrating\n",
      "it is already adjusted for mrating\n"
     ]
    }
   ],
   "source": [
    "# The PDs have already been adjusted for ratings.\n",
    "# If one particular rating has the same PDs, it indicates that it has already been adjusted.\n",
    "# However, it is still possible for customers to have the same ratings with different PDs.\n",
    "# but In that cases, it is not observable due to a lack of data.\n",
    "\n",
    "def adjusted_or_not(df,column,column_unique):\n",
    "    for x in list(df[column].unique()):\n",
    "        rating_data = df[df[column]==x]\n",
    "        if rating_data[column_unique].nunique()>1:\n",
    "            print(\"not adjusted for\",x)\n",
    "        else:\n",
    "            print('it is already adjusted for',column)\n",
    "adjusted_or_not(df,'mrating','PD')"
   ]
  },
  {
   "cell_type": "markdown",
   "id": "f8b175ba",
   "metadata": {},
   "source": [
    "# Average PD calculation"
   ]
  },
  {
   "cell_type": "code",
   "execution_count": 4,
   "id": "3e0e5ad8",
   "metadata": {},
   "outputs": [],
   "source": [
    "# beacuse we do not have sufficient data to calculate more sophisticated average PD,I will use simple approach.\n",
    "# I could calculate W.A pd, but to do it I need maturities of loans, lifetime PD and payment schedule.\n",
    "# and given that PD are already adjusted for ratings, I will only calculate mean of PD for each customer\n",
    "# to get average PD.\n",
    "\n",
    "average_pd_per_customer = df.groupby('customer_id')['PD'].mean().reset_index()\n",
    "\n",
    "average_pd_per_customer['PD'] = average_pd_per_customer['PD'].round(2)  \n",
    "\n",
    "average_pd_per_customer.rename(columns={'PD': 'Average_PD'}, inplace=True)\n",
    "\n",
    "data = df.merge(average_pd_per_customer, on='customer_id', how='left')"
   ]
  },
  {
   "cell_type": "markdown",
   "id": "e44f25d3",
   "metadata": {},
   "source": [
    "# explanation of how the distribution of defaults given the ASRF model may differ from that under the assumption they are binomially distributed "
   ]
  },
  {
   "cell_type": "code",
   "execution_count": null,
   "id": "2b38890a",
   "metadata": {},
   "outputs": [],
   "source": [
    "The distribution of defaults under the ASRF model differs from that assumed \n",
    "in the binomial distribution because he ASRF model incorporates varying success and \n",
    "failure rates (PDs) for each customer,whereas the binomial distribution assumes a single\n",
    "uniform success rate.\n",
    "\n",
    "\n",
    "As a result, the distribution of defaults in the ASRF model accounts for the individual credit risk\n",
    "profiles of each customer,resulting in a more realistic representation of credit risk. In contrast,\n",
    "the binomial distribution assumes a uniform, independent and constant risk level for all customers,\n",
    "which may not accurately capture the varying levels of credit risk inherent in a diverse portfolio."
   ]
  },
  {
   "cell_type": "markdown",
   "id": "de362e34",
   "metadata": {},
   "source": [
    "# explanation of how to compare the observed default ratio to the PD using binomial."
   ]
  },
  {
   "cell_type": "code",
   "execution_count": null,
   "id": "fd1b94ed",
   "metadata": {},
   "outputs": [],
   "source": [
    "To test the predicted Probability of Default (PD) against a realized series of observed default rates,\n",
    "we can employ various statistical tests. \n",
    "While we assume the Null Hypothesis (that the predicted PD accurately reflects the\n",
    "average probability of default for obligors in the group), \n",
    "the choice of the statistical test depends on the distribution of the data. \n",
    "If the data follows a normal distribution, a t-test or other parametric tests are appropriate;\n",
    "otherwise, we can use other non-parametric tests. \n",
    "This process involves identifying degrees of freedom, selecting a Significance Level \n",
    "and ultimately comparing the calculated p-value to the chosen Significance Level.\n",
    "\n",
    "As an example, I have utilized the binomial test, which is explained below."
   ]
  },
  {
   "cell_type": "code",
   "execution_count": 6,
   "id": "7efecd0c",
   "metadata": {},
   "outputs": [],
   "source": [
    "# This function helps analyze the relationship between model predictions and  actual target values\n",
    "# by aggregating them into bins and calculating summary statistics within each bin.\n",
    "# This methos is useful for analyzing the model's performance across different bins or score ranges.\n",
    "def binomial(data,target,pred, n_bins = 10, obs_col='num_obs'):\n",
    "    df = pd.concat([target, pred], axis=1)\n",
    "    df[obs_col] = 1 # This column is intended to represent the count of observations.\n",
    "    min_ = min(pred)\n",
    "    max_ = max(pred)\n",
    "    bins = np.append(np.arange(min_, max_, (max_-min_)/n_bins), max_)\n",
    "    # This line calculates the bin edges for the specified number of bins (n_bins)\n",
    "    \n",
    "    df[pred.name + '_binned'] = pd.cut(pred, bins, include_lowest=True)\n",
    "    df = df.groupby(pred.name + '_binned', as_index=False).agg({target.name:'sum',obs_col:'count',\n",
    "                                                                pred.name:'mean'})\n",
    "    # this line calculates the sum of target, the count of observations. \n",
    "    df[pred.name + '_binned'] = df[pred.name + '_binned'].apply(lambda x: pd.Interval(\n",
    "                                left=round(x.left,3),right=round(x.right,3)))\n",
    "    df['target_rate'] = df[target.name] / df[obs_col]\n",
    "    #This line calculates the target rate, which is the ratio of the sum of target values to the count of observations (obs_col) within each bin.\n",
    "    df['weight_of_bin'] = df[target.name]/df[target.name].sum()\n",
    "    df['weighted_recall'] = (df[pred.name]/df['target_rate'])* df['weight_of_bin']\n",
    "    \n",
    "    return df.dropna().round(2) , df['weighted_recall'].sum()\n",
    "    "
   ]
  },
  {
   "cell_type": "code",
   "execution_count": 7,
   "id": "a5911ca3",
   "metadata": {},
   "outputs": [],
   "source": [
    "result , recall = binomial(data,data.intodefault,data.PD)"
   ]
  },
  {
   "cell_type": "code",
   "execution_count": 193,
   "id": "781ec886",
   "metadata": {},
   "outputs": [
    {
     "name": "stdout",
     "output_type": "stream",
     "text": [
      "roughly weighted recall: 43 %\n"
     ]
    }
   ],
   "source": [
    "print('roughly weighted recall:',round(recall*100),\"%\")"
   ]
  },
  {
   "cell_type": "code",
   "execution_count": 9,
   "id": "3fe80df3",
   "metadata": {},
   "outputs": [
    {
     "data": {
      "text/html": [
       "<div>\n",
       "<style scoped>\n",
       "    .dataframe tbody tr th:only-of-type {\n",
       "        vertical-align: middle;\n",
       "    }\n",
       "\n",
       "    .dataframe tbody tr th {\n",
       "        vertical-align: top;\n",
       "    }\n",
       "\n",
       "    .dataframe thead th {\n",
       "        text-align: right;\n",
       "    }\n",
       "</style>\n",
       "<table border=\"1\" class=\"dataframe\">\n",
       "  <thead>\n",
       "    <tr style=\"text-align: right;\">\n",
       "      <th></th>\n",
       "      <th>PD_binned</th>\n",
       "      <th>intodefault</th>\n",
       "      <th>num_obs</th>\n",
       "      <th>PD</th>\n",
       "      <th>target_rate</th>\n",
       "      <th>weight_of_bin</th>\n",
       "      <th>weighted_recall</th>\n",
       "    </tr>\n",
       "  </thead>\n",
       "  <tbody>\n",
       "    <tr>\n",
       "      <th>0</th>\n",
       "      <td>(0.0, 0.046]</td>\n",
       "      <td>2263</td>\n",
       "      <td>20569</td>\n",
       "      <td>0.02</td>\n",
       "      <td>0.11</td>\n",
       "      <td>0.25</td>\n",
       "      <td>0.04</td>\n",
       "    </tr>\n",
       "    <tr>\n",
       "      <th>1</th>\n",
       "      <td>(0.046, 0.091]</td>\n",
       "      <td>1489</td>\n",
       "      <td>7202</td>\n",
       "      <td>0.07</td>\n",
       "      <td>0.21</td>\n",
       "      <td>0.16</td>\n",
       "      <td>0.06</td>\n",
       "    </tr>\n",
       "    <tr>\n",
       "      <th>3</th>\n",
       "      <td>(0.136, 0.181]</td>\n",
       "      <td>1860</td>\n",
       "      <td>6102</td>\n",
       "      <td>0.15</td>\n",
       "      <td>0.30</td>\n",
       "      <td>0.20</td>\n",
       "      <td>0.10</td>\n",
       "    </tr>\n",
       "    <tr>\n",
       "      <th>4</th>\n",
       "      <td>(0.181, 0.226]</td>\n",
       "      <td>1014</td>\n",
       "      <td>2568</td>\n",
       "      <td>0.20</td>\n",
       "      <td>0.39</td>\n",
       "      <td>0.11</td>\n",
       "      <td>0.06</td>\n",
       "    </tr>\n",
       "    <tr>\n",
       "      <th>5</th>\n",
       "      <td>(0.226, 0.27]</td>\n",
       "      <td>946</td>\n",
       "      <td>2269</td>\n",
       "      <td>0.25</td>\n",
       "      <td>0.42</td>\n",
       "      <td>0.10</td>\n",
       "      <td>0.06</td>\n",
       "    </tr>\n",
       "    <tr>\n",
       "      <th>6</th>\n",
       "      <td>(0.27, 0.315]</td>\n",
       "      <td>760</td>\n",
       "      <td>1560</td>\n",
       "      <td>0.30</td>\n",
       "      <td>0.49</td>\n",
       "      <td>0.08</td>\n",
       "      <td>0.05</td>\n",
       "    </tr>\n",
       "    <tr>\n",
       "      <th>7</th>\n",
       "      <td>(0.315, 0.36]</td>\n",
       "      <td>493</td>\n",
       "      <td>858</td>\n",
       "      <td>0.36</td>\n",
       "      <td>0.57</td>\n",
       "      <td>0.05</td>\n",
       "      <td>0.03</td>\n",
       "    </tr>\n",
       "    <tr>\n",
       "      <th>9</th>\n",
       "      <td>(0.405, 0.45]</td>\n",
       "      <td>278</td>\n",
       "      <td>551</td>\n",
       "      <td>0.45</td>\n",
       "      <td>0.50</td>\n",
       "      <td>0.03</td>\n",
       "      <td>0.03</td>\n",
       "    </tr>\n",
       "  </tbody>\n",
       "</table>\n",
       "</div>"
      ],
      "text/plain": [
       "        PD_binned  intodefault  num_obs    PD  target_rate  weight_of_bin  \\\n",
       "0    (0.0, 0.046]         2263    20569  0.02         0.11           0.25   \n",
       "1  (0.046, 0.091]         1489     7202  0.07         0.21           0.16   \n",
       "3  (0.136, 0.181]         1860     6102  0.15         0.30           0.20   \n",
       "4  (0.181, 0.226]         1014     2568  0.20         0.39           0.11   \n",
       "5   (0.226, 0.27]          946     2269  0.25         0.42           0.10   \n",
       "6   (0.27, 0.315]          760     1560  0.30         0.49           0.08   \n",
       "7   (0.315, 0.36]          493      858  0.36         0.57           0.05   \n",
       "9   (0.405, 0.45]          278      551  0.45         0.50           0.03   \n",
       "\n",
       "   weighted_recall  \n",
       "0             0.04  \n",
       "1             0.06  \n",
       "3             0.10  \n",
       "4             0.06  \n",
       "5             0.06  \n",
       "6             0.05  \n",
       "7             0.03  \n",
       "9             0.03  "
      ]
     },
     "execution_count": 9,
     "metadata": {},
     "output_type": "execute_result"
    }
   ],
   "source": [
    "result"
   ]
  },
  {
   "cell_type": "markdown",
   "id": "f0eba8f6",
   "metadata": {},
   "source": [
    "# compare the observed default ratio to the PD using confision matrix"
   ]
  },
  {
   "cell_type": "code",
   "execution_count": null,
   "id": "1d997caf",
   "metadata": {},
   "outputs": [],
   "source": [
    "# to use confision matrix, we should first define threshold"
   ]
  },
  {
   "cell_type": "code",
   "execution_count": 81,
   "id": "e81f067c",
   "metadata": {},
   "outputs": [],
   "source": [
    "def identify_threshold(data,actual,pred):\n",
    "    predicted_probs = data[pred]\n",
    "    actual_labels = data[actual]\n",
    "    thresholds = [0.05, 0.10, 0.15,0.20 ,0.25, 0.3, 0.35, 0.4] #list of thresholds\n",
    "    accuracy_scores = []\n",
    "    precision_scores = []\n",
    "    recall_scores = []\n",
    "    f1_scores = []\n",
    "\n",
    "    for threshold in thresholds:\n",
    "        # Convert predicted probabilities to binary predictions based on the threshold\n",
    "        binary_predictions = (predicted_probs >= threshold).astype(int)\n",
    "\n",
    "        # Calculate accuracy, precision, and recall for the threshold\n",
    "        accuracy = accuracy_score(actual_labels, binary_predictions)\n",
    "        precision = precision_score(actual_labels, binary_predictions)\n",
    "        recall = recall_score(actual_labels, binary_predictions)\n",
    "        f1 = f1_score(actual_labels, binary_predictions)\n",
    "        # Append the calculated metrics to the respective lists\n",
    "        accuracy_scores.append(accuracy)\n",
    "        precision_scores.append(precision)\n",
    "        recall_scores.append(recall)\n",
    "        f1_scores.append(f1)\n",
    "    # Create a DataFrame to store the results\n",
    "    results_df = pd.DataFrame({'Threshold': thresholds, 'Accuracy': accuracy_scores, \n",
    "                                'Precision': precision_scores, 'Recall': recall_scores, 'F1 Score': f1_scores})\n",
    "    return results_df\n"
   ]
  },
  {
   "cell_type": "code",
   "execution_count": 82,
   "id": "0887a012",
   "metadata": {},
   "outputs": [],
   "source": [
    "results_df = identify_threshold(data,'intodefault','PD')"
   ]
  },
  {
   "cell_type": "code",
   "execution_count": 83,
   "id": "8651aa48",
   "metadata": {},
   "outputs": [
    {
     "data": {
      "text/html": [
       "<div>\n",
       "<style scoped>\n",
       "    .dataframe tbody tr th:only-of-type {\n",
       "        vertical-align: middle;\n",
       "    }\n",
       "\n",
       "    .dataframe tbody tr th {\n",
       "        vertical-align: top;\n",
       "    }\n",
       "\n",
       "    .dataframe thead th {\n",
       "        text-align: right;\n",
       "    }\n",
       "</style>\n",
       "<table border=\"1\" class=\"dataframe\">\n",
       "  <thead>\n",
       "    <tr style=\"text-align: right;\">\n",
       "      <th></th>\n",
       "      <th>Threshold</th>\n",
       "      <th>Accuracy</th>\n",
       "      <th>Precision</th>\n",
       "      <th>Recall</th>\n",
       "      <th>F1 Score</th>\n",
       "    </tr>\n",
       "  </thead>\n",
       "  <tbody>\n",
       "    <tr>\n",
       "      <th>0</th>\n",
       "      <td>0.05</td>\n",
       "      <td>0.603325</td>\n",
       "      <td>0.324017</td>\n",
       "      <td>0.751401</td>\n",
       "      <td>0.452785</td>\n",
       "    </tr>\n",
       "    <tr>\n",
       "      <th>1</th>\n",
       "      <td>0.10</td>\n",
       "      <td>0.704671</td>\n",
       "      <td>0.384743</td>\n",
       "      <td>0.587828</td>\n",
       "      <td>0.465082</td>\n",
       "    </tr>\n",
       "    <tr>\n",
       "      <th>2</th>\n",
       "      <td>0.15</td>\n",
       "      <td>0.737614</td>\n",
       "      <td>0.413153</td>\n",
       "      <td>0.478963</td>\n",
       "      <td>0.443630</td>\n",
       "    </tr>\n",
       "    <tr>\n",
       "      <th>3</th>\n",
       "      <td>0.20</td>\n",
       "      <td>0.761823</td>\n",
       "      <td>0.447220</td>\n",
       "      <td>0.383500</td>\n",
       "      <td>0.412916</td>\n",
       "    </tr>\n",
       "    <tr>\n",
       "      <th>4</th>\n",
       "      <td>0.25</td>\n",
       "      <td>0.774779</td>\n",
       "      <td>0.472890</td>\n",
       "      <td>0.272108</td>\n",
       "      <td>0.345443</td>\n",
       "    </tr>\n",
       "    <tr>\n",
       "      <th>5</th>\n",
       "      <td>0.30</td>\n",
       "      <td>0.783824</td>\n",
       "      <td>0.515662</td>\n",
       "      <td>0.168186</td>\n",
       "      <td>0.253645</td>\n",
       "    </tr>\n",
       "    <tr>\n",
       "      <th>6</th>\n",
       "      <td>0.35</td>\n",
       "      <td>0.784784</td>\n",
       "      <td>0.547197</td>\n",
       "      <td>0.084697</td>\n",
       "      <td>0.146689</td>\n",
       "    </tr>\n",
       "    <tr>\n",
       "      <th>7</th>\n",
       "      <td>0.40</td>\n",
       "      <td>0.781713</td>\n",
       "      <td>0.504537</td>\n",
       "      <td>0.030539</td>\n",
       "      <td>0.057593</td>\n",
       "    </tr>\n",
       "  </tbody>\n",
       "</table>\n",
       "</div>"
      ],
      "text/plain": [
       "   Threshold  Accuracy  Precision    Recall  F1 Score\n",
       "0       0.05  0.603325   0.324017  0.751401  0.452785\n",
       "1       0.10  0.704671   0.384743  0.587828  0.465082\n",
       "2       0.15  0.737614   0.413153  0.478963  0.443630\n",
       "3       0.20  0.761823   0.447220  0.383500  0.412916\n",
       "4       0.25  0.774779   0.472890  0.272108  0.345443\n",
       "5       0.30  0.783824   0.515662  0.168186  0.253645\n",
       "6       0.35  0.784784   0.547197  0.084697  0.146689\n",
       "7       0.40  0.781713   0.504537  0.030539  0.057593"
      ]
     },
     "execution_count": 83,
     "metadata": {},
     "output_type": "execute_result"
    }
   ],
   "source": [
    "results_df"
   ]
  },
  {
   "cell_type": "code",
   "execution_count": 13,
   "id": "cee5b641",
   "metadata": {},
   "outputs": [
    {
     "data": {
      "text/plain": [
       "0.15451180929363947"
      ]
     },
     "execution_count": 13,
     "metadata": {},
     "output_type": "execute_result"
    }
   ],
   "source": [
    "# The threshold of 0.15 is the most suitable choice\n",
    "# since it matches  the average PD rate of customers who have defaulted.\n",
    "data[data['intodefault']==1]['PD'].mean()"
   ]
  },
  {
   "cell_type": "code",
   "execution_count": 14,
   "id": "27929de5",
   "metadata": {},
   "outputs": [
    {
     "data": {
      "text/html": [
       "<div>\n",
       "<style scoped>\n",
       "    .dataframe tbody tr th:only-of-type {\n",
       "        vertical-align: middle;\n",
       "    }\n",
       "\n",
       "    .dataframe tbody tr th {\n",
       "        vertical-align: top;\n",
       "    }\n",
       "\n",
       "    .dataframe thead th {\n",
       "        text-align: right;\n",
       "    }\n",
       "</style>\n",
       "<table border=\"1\" class=\"dataframe\">\n",
       "  <thead>\n",
       "    <tr style=\"text-align: right;\">\n",
       "      <th></th>\n",
       "      <th>Threshold</th>\n",
       "      <th>Accuracy</th>\n",
       "      <th>Precision</th>\n",
       "      <th>Recall</th>\n",
       "      <th>F1 Score</th>\n",
       "    </tr>\n",
       "  </thead>\n",
       "  <tbody>\n",
       "    <tr>\n",
       "      <th>0</th>\n",
       "      <td>0.15</td>\n",
       "      <td>0.737614</td>\n",
       "      <td>0.413153</td>\n",
       "      <td>0.478963</td>\n",
       "      <td>0.44363</td>\n",
       "    </tr>\n",
       "  </tbody>\n",
       "</table>\n",
       "</div>"
      ],
      "text/plain": [
       "   Threshold  Accuracy  Precision    Recall  F1 Score\n",
       "0       0.15  0.737614   0.413153  0.478963   0.44363"
      ]
     },
     "execution_count": 14,
     "metadata": {},
     "output_type": "execute_result"
    }
   ],
   "source": [
    "# Additionally, given that our primary objective is to identify customers who may default, \n",
    "# we should primarily focus on increasing recall to optimal level.\"\n",
    "# Finally, The recall value obtained from both the binomial test and the last method are similar\n",
    "results_df[results_df['Threshold']==0.15]"
   ]
  },
  {
   "cell_type": "markdown",
   "id": "e2f60ae7",
   "metadata": {},
   "source": [
    "# whether the observed average default rate is within the expected range."
   ]
  },
  {
   "cell_type": "code",
   "execution_count": 15,
   "id": "11558f32",
   "metadata": {},
   "outputs": [],
   "source": [
    "df = data.copy()"
   ]
  },
  {
   "cell_type": "code",
   "execution_count": 16,
   "id": "8543e4cc",
   "metadata": {},
   "outputs": [
    {
     "name": "stderr",
     "output_type": "stream",
     "text": [
      "C:\\Users\\bsalahli\\AppData\\Local\\Temp\\ipykernel_6064\\31461935.py:8: UserWarning: Parsing dates in %d.%m.%Y format when dayfirst=False (the default) was specified. Pass `dayfirst=True` or specify a format to silence this warning.\n",
      "  df.default_moment = pd.to_datetime(df.default_moment)\n"
     ]
    }
   ],
   "source": [
    "#To calculate the average observed target rate, \n",
    "#I chose to calculate a weighted average of the observed default rate based on \n",
    "#the customer's default_moment.\n",
    "#This accounts for the fact that customers who defaulted more recently are considered riskier.\n",
    "#I accomplished this by creating a new column that calculates the \n",
    "#time difference between default_moment and the current date.\"\n",
    "\n",
    "df.default_moment = pd.to_datetime(df.default_moment)\n",
    "df['since_defaulted'] = round(((datetime.now() - df.default_moment).dt.days)/30)\n",
    "sum_days = df.groupby('customer_id')['since_defaulted'].sum().reset_index()\n",
    "sum_days.rename(columns = {'since_defaulted':'sum_days'} , inplace = True)\n",
    "sumed = df.merge(sum_days, on = 'customer_id' , how = 'left')\n",
    "data['weights_of_defaults'] = sumed['since_defaulted']/sumed.sum_days\n",
    "data['adjusted_defaults'] = data['intodefault'] * data['weights_of_defaults']\n",
    "last = data.groupby('customer_id')['adjusted_defaults'].sum().reset_index()\n",
    "last = last.rename(columns = {'adjusted_defautls':'weighted_default_rates'})\n",
    "last.rename(columns = {'adjusted_defaults':'weighted_default_rates'} , inplace = True)\n",
    "data = data.merge(last , on = 'customer_id' , how = 'left')\n",
    "data.drop(columns = ['adjusted_defaults','weights_of_defaults'] , axis = 1 , inplace = True)"
   ]
  },
  {
   "cell_type": "code",
   "execution_count": 17,
   "id": "f1b883da",
   "metadata": {},
   "outputs": [],
   "source": [
    "result_average , recall_average = binomial(data,data.weighted_default_rates,data.Average_PD)"
   ]
  },
  {
   "cell_type": "code",
   "execution_count": 194,
   "id": "92466e65",
   "metadata": {},
   "outputs": [
    {
     "data": {
      "text/html": [
       "<div>\n",
       "<style scoped>\n",
       "    .dataframe tbody tr th:only-of-type {\n",
       "        vertical-align: middle;\n",
       "    }\n",
       "\n",
       "    .dataframe tbody tr th {\n",
       "        vertical-align: top;\n",
       "    }\n",
       "\n",
       "    .dataframe thead th {\n",
       "        text-align: right;\n",
       "    }\n",
       "</style>\n",
       "<table border=\"1\" class=\"dataframe\">\n",
       "  <thead>\n",
       "    <tr style=\"text-align: right;\">\n",
       "      <th></th>\n",
       "      <th>customer_id</th>\n",
       "      <th>reporting_date</th>\n",
       "      <th>default_moment</th>\n",
       "      <th>intodefault</th>\n",
       "      <th>mrating</th>\n",
       "      <th>PD</th>\n",
       "      <th>Average_PD</th>\n",
       "      <th>weighted_default_rates</th>\n",
       "      <th>EDR</th>\n",
       "      <th>ODR</th>\n",
       "    </tr>\n",
       "  </thead>\n",
       "  <tbody>\n",
       "    <tr>\n",
       "      <th>0</th>\n",
       "      <td>1</td>\n",
       "      <td>2010-01-31</td>\n",
       "      <td>30.09.2010</td>\n",
       "      <td>1</td>\n",
       "      <td>21</td>\n",
       "      <td>0.20</td>\n",
       "      <td>0.24</td>\n",
       "      <td>1.0</td>\n",
       "      <td>8335.80</td>\n",
       "      <td>1</td>\n",
       "    </tr>\n",
       "    <tr>\n",
       "      <th>1</th>\n",
       "      <td>1</td>\n",
       "      <td>2010-02-28</td>\n",
       "      <td>30.09.2010</td>\n",
       "      <td>1</td>\n",
       "      <td>22</td>\n",
       "      <td>0.25</td>\n",
       "      <td>0.24</td>\n",
       "      <td>1.0</td>\n",
       "      <td>10419.75</td>\n",
       "      <td>1</td>\n",
       "    </tr>\n",
       "    <tr>\n",
       "      <th>2</th>\n",
       "      <td>1</td>\n",
       "      <td>2010-03-31</td>\n",
       "      <td>30.09.2010</td>\n",
       "      <td>1</td>\n",
       "      <td>22</td>\n",
       "      <td>0.25</td>\n",
       "      <td>0.24</td>\n",
       "      <td>1.0</td>\n",
       "      <td>10419.75</td>\n",
       "      <td>1</td>\n",
       "    </tr>\n",
       "    <tr>\n",
       "      <th>3</th>\n",
       "      <td>1</td>\n",
       "      <td>2010-04-30</td>\n",
       "      <td>30.09.2010</td>\n",
       "      <td>1</td>\n",
       "      <td>22</td>\n",
       "      <td>0.25</td>\n",
       "      <td>0.24</td>\n",
       "      <td>1.0</td>\n",
       "      <td>10419.75</td>\n",
       "      <td>1</td>\n",
       "    </tr>\n",
       "    <tr>\n",
       "      <th>4</th>\n",
       "      <td>1</td>\n",
       "      <td>2010-05-31</td>\n",
       "      <td>30.09.2010</td>\n",
       "      <td>1</td>\n",
       "      <td>22</td>\n",
       "      <td>0.25</td>\n",
       "      <td>0.24</td>\n",
       "      <td>1.0</td>\n",
       "      <td>10419.75</td>\n",
       "      <td>1</td>\n",
       "    </tr>\n",
       "    <tr>\n",
       "      <th>...</th>\n",
       "      <td>...</td>\n",
       "      <td>...</td>\n",
       "      <td>...</td>\n",
       "      <td>...</td>\n",
       "      <td>...</td>\n",
       "      <td>...</td>\n",
       "      <td>...</td>\n",
       "      <td>...</td>\n",
       "      <td>...</td>\n",
       "      <td>...</td>\n",
       "    </tr>\n",
       "    <tr>\n",
       "      <th>41674</th>\n",
       "      <td>2501</td>\n",
       "      <td>2011-07-31</td>\n",
       "      <td>NaN</td>\n",
       "      <td>0</td>\n",
       "      <td>17</td>\n",
       "      <td>0.06</td>\n",
       "      <td>0.05</td>\n",
       "      <td>0.0</td>\n",
       "      <td>2500.74</td>\n",
       "      <td>0</td>\n",
       "    </tr>\n",
       "    <tr>\n",
       "      <th>41675</th>\n",
       "      <td>2501</td>\n",
       "      <td>2011-08-31</td>\n",
       "      <td>NaN</td>\n",
       "      <td>0</td>\n",
       "      <td>17</td>\n",
       "      <td>0.06</td>\n",
       "      <td>0.05</td>\n",
       "      <td>0.0</td>\n",
       "      <td>2500.74</td>\n",
       "      <td>0</td>\n",
       "    </tr>\n",
       "    <tr>\n",
       "      <th>41676</th>\n",
       "      <td>2501</td>\n",
       "      <td>2011-09-30</td>\n",
       "      <td>NaN</td>\n",
       "      <td>0</td>\n",
       "      <td>17</td>\n",
       "      <td>0.06</td>\n",
       "      <td>0.05</td>\n",
       "      <td>0.0</td>\n",
       "      <td>2500.74</td>\n",
       "      <td>0</td>\n",
       "    </tr>\n",
       "    <tr>\n",
       "      <th>41677</th>\n",
       "      <td>2501</td>\n",
       "      <td>2011-10-31</td>\n",
       "      <td>NaN</td>\n",
       "      <td>0</td>\n",
       "      <td>17</td>\n",
       "      <td>0.06</td>\n",
       "      <td>0.05</td>\n",
       "      <td>0.0</td>\n",
       "      <td>2500.74</td>\n",
       "      <td>0</td>\n",
       "    </tr>\n",
       "    <tr>\n",
       "      <th>41678</th>\n",
       "      <td>2501</td>\n",
       "      <td>2011-11-30</td>\n",
       "      <td>NaN</td>\n",
       "      <td>0</td>\n",
       "      <td>17</td>\n",
       "      <td>0.06</td>\n",
       "      <td>0.05</td>\n",
       "      <td>0.0</td>\n",
       "      <td>2500.74</td>\n",
       "      <td>0</td>\n",
       "    </tr>\n",
       "  </tbody>\n",
       "</table>\n",
       "<p>41679 rows × 10 columns</p>\n",
       "</div>"
      ],
      "text/plain": [
       "       customer_id reporting_date default_moment  intodefault  mrating    PD  \\\n",
       "0                1     2010-01-31     30.09.2010            1       21  0.20   \n",
       "1                1     2010-02-28     30.09.2010            1       22  0.25   \n",
       "2                1     2010-03-31     30.09.2010            1       22  0.25   \n",
       "3                1     2010-04-30     30.09.2010            1       22  0.25   \n",
       "4                1     2010-05-31     30.09.2010            1       22  0.25   \n",
       "...            ...            ...            ...          ...      ...   ...   \n",
       "41674         2501     2011-07-31            NaN            0       17  0.06   \n",
       "41675         2501     2011-08-31            NaN            0       17  0.06   \n",
       "41676         2501     2011-09-30            NaN            0       17  0.06   \n",
       "41677         2501     2011-10-31            NaN            0       17  0.06   \n",
       "41678         2501     2011-11-30            NaN            0       17  0.06   \n",
       "\n",
       "       Average_PD  weighted_default_rates       EDR  ODR  \n",
       "0            0.24                     1.0   8335.80    1  \n",
       "1            0.24                     1.0  10419.75    1  \n",
       "2            0.24                     1.0  10419.75    1  \n",
       "3            0.24                     1.0  10419.75    1  \n",
       "4            0.24                     1.0  10419.75    1  \n",
       "...           ...                     ...       ...  ...  \n",
       "41674        0.05                     0.0   2500.74    0  \n",
       "41675        0.05                     0.0   2500.74    0  \n",
       "41676        0.05                     0.0   2500.74    0  \n",
       "41677        0.05                     0.0   2500.74    0  \n",
       "41678        0.05                     0.0   2500.74    0  \n",
       "\n",
       "[41679 rows x 10 columns]"
      ]
     },
     "execution_count": 194,
     "metadata": {},
     "output_type": "execute_result"
    }
   ],
   "source": [
    "data"
   ]
  },
  {
   "cell_type": "code",
   "execution_count": 18,
   "id": "1a10368a",
   "metadata": {},
   "outputs": [
    {
     "name": "stdout",
     "output_type": "stream",
     "text": [
      "weighted recall: 36 %\n"
     ]
    }
   ],
   "source": [
    "print('weighted recall:',round(recall_average*100),\"%\")"
   ]
  },
  {
   "cell_type": "code",
   "execution_count": 19,
   "id": "13046cc9",
   "metadata": {},
   "outputs": [
    {
     "data": {
      "text/html": [
       "<div>\n",
       "<style scoped>\n",
       "    .dataframe tbody tr th:only-of-type {\n",
       "        vertical-align: middle;\n",
       "    }\n",
       "\n",
       "    .dataframe tbody tr th {\n",
       "        vertical-align: top;\n",
       "    }\n",
       "\n",
       "    .dataframe thead th {\n",
       "        text-align: right;\n",
       "    }\n",
       "</style>\n",
       "<table border=\"1\" class=\"dataframe\">\n",
       "  <thead>\n",
       "    <tr style=\"text-align: right;\">\n",
       "      <th></th>\n",
       "      <th>Average_PD_binned</th>\n",
       "      <th>weighted_default_rates</th>\n",
       "      <th>num_obs</th>\n",
       "      <th>Average_PD</th>\n",
       "      <th>target_rate</th>\n",
       "      <th>weight_of_bin</th>\n",
       "      <th>weighted_recall</th>\n",
       "    </tr>\n",
       "  </thead>\n",
       "  <tbody>\n",
       "    <tr>\n",
       "      <th>0</th>\n",
       "      <td>(-0.001, 0.045]</td>\n",
       "      <td>2633.62</td>\n",
       "      <td>19795</td>\n",
       "      <td>0.02</td>\n",
       "      <td>0.13</td>\n",
       "      <td>0.24</td>\n",
       "      <td>0.03</td>\n",
       "    </tr>\n",
       "    <tr>\n",
       "      <th>1</th>\n",
       "      <td>(0.045, 0.09]</td>\n",
       "      <td>1610.69</td>\n",
       "      <td>6720</td>\n",
       "      <td>0.07</td>\n",
       "      <td>0.24</td>\n",
       "      <td>0.15</td>\n",
       "      <td>0.04</td>\n",
       "    </tr>\n",
       "    <tr>\n",
       "      <th>2</th>\n",
       "      <td>(0.09, 0.135]</td>\n",
       "      <td>710.31</td>\n",
       "      <td>2678</td>\n",
       "      <td>0.11</td>\n",
       "      <td>0.27</td>\n",
       "      <td>0.07</td>\n",
       "      <td>0.03</td>\n",
       "    </tr>\n",
       "    <tr>\n",
       "      <th>3</th>\n",
       "      <td>(0.135, 0.18]</td>\n",
       "      <td>1907.08</td>\n",
       "      <td>4866</td>\n",
       "      <td>0.16</td>\n",
       "      <td>0.39</td>\n",
       "      <td>0.18</td>\n",
       "      <td>0.07</td>\n",
       "    </tr>\n",
       "    <tr>\n",
       "      <th>4</th>\n",
       "      <td>(0.18, 0.225]</td>\n",
       "      <td>1075.38</td>\n",
       "      <td>2422</td>\n",
       "      <td>0.20</td>\n",
       "      <td>0.44</td>\n",
       "      <td>0.10</td>\n",
       "      <td>0.05</td>\n",
       "    </tr>\n",
       "    <tr>\n",
       "      <th>5</th>\n",
       "      <td>(0.225, 0.27]</td>\n",
       "      <td>1146.00</td>\n",
       "      <td>2225</td>\n",
       "      <td>0.25</td>\n",
       "      <td>0.52</td>\n",
       "      <td>0.11</td>\n",
       "      <td>0.05</td>\n",
       "    </tr>\n",
       "    <tr>\n",
       "      <th>6</th>\n",
       "      <td>(0.27, 0.315]</td>\n",
       "      <td>728.08</td>\n",
       "      <td>1265</td>\n",
       "      <td>0.29</td>\n",
       "      <td>0.58</td>\n",
       "      <td>0.07</td>\n",
       "      <td>0.03</td>\n",
       "    </tr>\n",
       "    <tr>\n",
       "      <th>7</th>\n",
       "      <td>(0.315, 0.36]</td>\n",
       "      <td>594.00</td>\n",
       "      <td>929</td>\n",
       "      <td>0.34</td>\n",
       "      <td>0.64</td>\n",
       "      <td>0.05</td>\n",
       "      <td>0.03</td>\n",
       "    </tr>\n",
       "    <tr>\n",
       "      <th>8</th>\n",
       "      <td>(0.36, 0.405]</td>\n",
       "      <td>165.00</td>\n",
       "      <td>316</td>\n",
       "      <td>0.38</td>\n",
       "      <td>0.52</td>\n",
       "      <td>0.02</td>\n",
       "      <td>0.01</td>\n",
       "    </tr>\n",
       "    <tr>\n",
       "      <th>9</th>\n",
       "      <td>(0.405, 0.45]</td>\n",
       "      <td>284.54</td>\n",
       "      <td>463</td>\n",
       "      <td>0.44</td>\n",
       "      <td>0.61</td>\n",
       "      <td>0.03</td>\n",
       "      <td>0.02</td>\n",
       "    </tr>\n",
       "  </tbody>\n",
       "</table>\n",
       "</div>"
      ],
      "text/plain": [
       "  Average_PD_binned  weighted_default_rates  num_obs  Average_PD  target_rate  \\\n",
       "0   (-0.001, 0.045]                 2633.62    19795        0.02         0.13   \n",
       "1     (0.045, 0.09]                 1610.69     6720        0.07         0.24   \n",
       "2     (0.09, 0.135]                  710.31     2678        0.11         0.27   \n",
       "3     (0.135, 0.18]                 1907.08     4866        0.16         0.39   \n",
       "4     (0.18, 0.225]                 1075.38     2422        0.20         0.44   \n",
       "5     (0.225, 0.27]                 1146.00     2225        0.25         0.52   \n",
       "6     (0.27, 0.315]                  728.08     1265        0.29         0.58   \n",
       "7     (0.315, 0.36]                  594.00      929        0.34         0.64   \n",
       "8     (0.36, 0.405]                  165.00      316        0.38         0.52   \n",
       "9     (0.405, 0.45]                  284.54      463        0.44         0.61   \n",
       "\n",
       "   weight_of_bin  weighted_recall  \n",
       "0           0.24             0.03  \n",
       "1           0.15             0.04  \n",
       "2           0.07             0.03  \n",
       "3           0.18             0.07  \n",
       "4           0.10             0.05  \n",
       "5           0.11             0.05  \n",
       "6           0.07             0.03  \n",
       "7           0.05             0.03  \n",
       "8           0.02             0.01  \n",
       "9           0.03             0.02  "
      ]
     },
     "execution_count": 19,
     "metadata": {},
     "output_type": "execute_result"
    }
   ],
   "source": [
    "result_average"
   ]
  },
  {
   "cell_type": "code",
   "execution_count": null,
   "id": "458ff73a",
   "metadata": {},
   "outputs": [],
   "source": [
    "# because Classification metrics can't handle a mix of continuous and binary targets\n",
    "# we can't use identify_threshold for weighted_default_rates"
   ]
  },
  {
   "cell_type": "markdown",
   "id": "c88c31c9",
   "metadata": {},
   "source": [
    "## Hosmer_Lemeshow test"
   ]
  },
  {
   "cell_type": "code",
   "execution_count": 20,
   "id": "12af666d",
   "metadata": {},
   "outputs": [],
   "source": [
    "#Hosmer-Lemeshow Chi-Square test checks whether the difference between \n",
    "#the actual and modelled outcome at the portfolio level \n",
    "#(i.e., simultaneously for all grades), is statistically significant over \n",
    "#the assessment period. The test is performed at an overall model level and\n",
    "#does not inform about the underestimation or the overestimation.\n",
    "def Hosmer_Lemeshow(target,pred,obs_col='num_obs',n_bins=10,bins_col=None):\n",
    "\n",
    "    df = pd.concat([target, pred,bins_col], axis=1)\n",
    "    df['num_obs'] = 1\n",
    "    min_ = min(pred)\n",
    "    max_ = max(pred)\n",
    "    bins = np.append(np.arange(min_, max_, (max_-min_)/n_bins), max_) \n",
    "    df[pred.name + '_binned'] = pd.cut(pred, bins, include_lowest=True)\n",
    "    df = df.groupby(pred.name + '_binned', as_index=False).agg({target.name:'sum','num_obs':'count',\n",
    "                                                                        pred.name:'mean'})\n",
    "    df['exp_events'] = df[obs_col]*df[pred.name]\n",
    "    tt = sum((df['exp_events']-df[target.name])**2/(df['exp_events']*(1-df[pred.name])))\n",
    "    chi = chi2.cdf(tt,len(df)-2)\n",
    "    pvalue=1-chi\n",
    "    return pvalue"
   ]
  },
  {
   "cell_type": "code",
   "execution_count": 27,
   "id": "5f6e0b99",
   "metadata": {},
   "outputs": [
    {
     "data": {
      "text/plain": [
       "0.0"
      ]
     },
     "execution_count": 27,
     "metadata": {},
     "output_type": "execute_result"
    }
   ],
   "source": [
    "Hosmer_Lemeshow(data.weighted_default_rates,data.Average_PD)"
   ]
  },
  {
   "cell_type": "code",
   "execution_count": 177,
   "id": "c741c3cb",
   "metadata": {},
   "outputs": [
    {
     "data": {
      "text/html": [
       "<div>\n",
       "<style scoped>\n",
       "    .dataframe tbody tr th:only-of-type {\n",
       "        vertical-align: middle;\n",
       "    }\n",
       "\n",
       "    .dataframe tbody tr th {\n",
       "        vertical-align: top;\n",
       "    }\n",
       "\n",
       "    .dataframe thead th {\n",
       "        text-align: right;\n",
       "    }\n",
       "</style>\n",
       "<table border=\"1\" class=\"dataframe\">\n",
       "  <thead>\n",
       "    <tr style=\"text-align: right;\">\n",
       "      <th></th>\n",
       "      <th>customer_id</th>\n",
       "      <th>reporting_date</th>\n",
       "      <th>default_moment</th>\n",
       "      <th>intodefault</th>\n",
       "      <th>mrating</th>\n",
       "      <th>PD</th>\n",
       "      <th>Average_PD</th>\n",
       "      <th>weighted_default_rates</th>\n",
       "      <th>EDR</th>\n",
       "      <th>ODR</th>\n",
       "    </tr>\n",
       "  </thead>\n",
       "  <tbody>\n",
       "    <tr>\n",
       "      <th>0</th>\n",
       "      <td>1</td>\n",
       "      <td>2010-01-31</td>\n",
       "      <td>30.09.2010</td>\n",
       "      <td>1</td>\n",
       "      <td>21</td>\n",
       "      <td>0.20</td>\n",
       "      <td>0.24</td>\n",
       "      <td>1.0</td>\n",
       "      <td>8335.80</td>\n",
       "      <td>1</td>\n",
       "    </tr>\n",
       "    <tr>\n",
       "      <th>1</th>\n",
       "      <td>1</td>\n",
       "      <td>2010-02-28</td>\n",
       "      <td>30.09.2010</td>\n",
       "      <td>1</td>\n",
       "      <td>22</td>\n",
       "      <td>0.25</td>\n",
       "      <td>0.24</td>\n",
       "      <td>1.0</td>\n",
       "      <td>10419.75</td>\n",
       "      <td>1</td>\n",
       "    </tr>\n",
       "    <tr>\n",
       "      <th>2</th>\n",
       "      <td>1</td>\n",
       "      <td>2010-03-31</td>\n",
       "      <td>30.09.2010</td>\n",
       "      <td>1</td>\n",
       "      <td>22</td>\n",
       "      <td>0.25</td>\n",
       "      <td>0.24</td>\n",
       "      <td>1.0</td>\n",
       "      <td>10419.75</td>\n",
       "      <td>1</td>\n",
       "    </tr>\n",
       "    <tr>\n",
       "      <th>3</th>\n",
       "      <td>1</td>\n",
       "      <td>2010-04-30</td>\n",
       "      <td>30.09.2010</td>\n",
       "      <td>1</td>\n",
       "      <td>22</td>\n",
       "      <td>0.25</td>\n",
       "      <td>0.24</td>\n",
       "      <td>1.0</td>\n",
       "      <td>10419.75</td>\n",
       "      <td>1</td>\n",
       "    </tr>\n",
       "    <tr>\n",
       "      <th>4</th>\n",
       "      <td>1</td>\n",
       "      <td>2010-05-31</td>\n",
       "      <td>30.09.2010</td>\n",
       "      <td>1</td>\n",
       "      <td>22</td>\n",
       "      <td>0.25</td>\n",
       "      <td>0.24</td>\n",
       "      <td>1.0</td>\n",
       "      <td>10419.75</td>\n",
       "      <td>1</td>\n",
       "    </tr>\n",
       "    <tr>\n",
       "      <th>...</th>\n",
       "      <td>...</td>\n",
       "      <td>...</td>\n",
       "      <td>...</td>\n",
       "      <td>...</td>\n",
       "      <td>...</td>\n",
       "      <td>...</td>\n",
       "      <td>...</td>\n",
       "      <td>...</td>\n",
       "      <td>...</td>\n",
       "      <td>...</td>\n",
       "    </tr>\n",
       "    <tr>\n",
       "      <th>41674</th>\n",
       "      <td>2501</td>\n",
       "      <td>2011-07-31</td>\n",
       "      <td>NaN</td>\n",
       "      <td>0</td>\n",
       "      <td>17</td>\n",
       "      <td>0.06</td>\n",
       "      <td>0.05</td>\n",
       "      <td>0.0</td>\n",
       "      <td>2500.74</td>\n",
       "      <td>0</td>\n",
       "    </tr>\n",
       "    <tr>\n",
       "      <th>41675</th>\n",
       "      <td>2501</td>\n",
       "      <td>2011-08-31</td>\n",
       "      <td>NaN</td>\n",
       "      <td>0</td>\n",
       "      <td>17</td>\n",
       "      <td>0.06</td>\n",
       "      <td>0.05</td>\n",
       "      <td>0.0</td>\n",
       "      <td>2500.74</td>\n",
       "      <td>0</td>\n",
       "    </tr>\n",
       "    <tr>\n",
       "      <th>41676</th>\n",
       "      <td>2501</td>\n",
       "      <td>2011-09-30</td>\n",
       "      <td>NaN</td>\n",
       "      <td>0</td>\n",
       "      <td>17</td>\n",
       "      <td>0.06</td>\n",
       "      <td>0.05</td>\n",
       "      <td>0.0</td>\n",
       "      <td>2500.74</td>\n",
       "      <td>0</td>\n",
       "    </tr>\n",
       "    <tr>\n",
       "      <th>41677</th>\n",
       "      <td>2501</td>\n",
       "      <td>2011-10-31</td>\n",
       "      <td>NaN</td>\n",
       "      <td>0</td>\n",
       "      <td>17</td>\n",
       "      <td>0.06</td>\n",
       "      <td>0.05</td>\n",
       "      <td>0.0</td>\n",
       "      <td>2500.74</td>\n",
       "      <td>0</td>\n",
       "    </tr>\n",
       "    <tr>\n",
       "      <th>41678</th>\n",
       "      <td>2501</td>\n",
       "      <td>2011-11-30</td>\n",
       "      <td>NaN</td>\n",
       "      <td>0</td>\n",
       "      <td>17</td>\n",
       "      <td>0.06</td>\n",
       "      <td>0.05</td>\n",
       "      <td>0.0</td>\n",
       "      <td>2500.74</td>\n",
       "      <td>0</td>\n",
       "    </tr>\n",
       "  </tbody>\n",
       "</table>\n",
       "<p>41679 rows × 10 columns</p>\n",
       "</div>"
      ],
      "text/plain": [
       "       customer_id reporting_date default_moment  intodefault  mrating    PD  \\\n",
       "0                1     2010-01-31     30.09.2010            1       21  0.20   \n",
       "1                1     2010-02-28     30.09.2010            1       22  0.25   \n",
       "2                1     2010-03-31     30.09.2010            1       22  0.25   \n",
       "3                1     2010-04-30     30.09.2010            1       22  0.25   \n",
       "4                1     2010-05-31     30.09.2010            1       22  0.25   \n",
       "...            ...            ...            ...          ...      ...   ...   \n",
       "41674         2501     2011-07-31            NaN            0       17  0.06   \n",
       "41675         2501     2011-08-31            NaN            0       17  0.06   \n",
       "41676         2501     2011-09-30            NaN            0       17  0.06   \n",
       "41677         2501     2011-10-31            NaN            0       17  0.06   \n",
       "41678         2501     2011-11-30            NaN            0       17  0.06   \n",
       "\n",
       "       Average_PD  weighted_default_rates       EDR  ODR  \n",
       "0            0.24                     1.0   8335.80    1  \n",
       "1            0.24                     1.0  10419.75    1  \n",
       "2            0.24                     1.0  10419.75    1  \n",
       "3            0.24                     1.0  10419.75    1  \n",
       "4            0.24                     1.0  10419.75    1  \n",
       "...           ...                     ...       ...  ...  \n",
       "41674        0.05                     0.0   2500.74    0  \n",
       "41675        0.05                     0.0   2500.74    0  \n",
       "41676        0.05                     0.0   2500.74    0  \n",
       "41677        0.05                     0.0   2500.74    0  \n",
       "41678        0.05                     0.0   2500.74    0  \n",
       "\n",
       "[41679 rows x 10 columns]"
      ]
     },
     "execution_count": 177,
     "metadata": {},
     "output_type": "execute_result"
    }
   ],
   "source": [
    "data"
   ]
  },
  {
   "cell_type": "code",
   "execution_count": null,
   "id": "4658d237",
   "metadata": {},
   "outputs": [],
   "source": [
    "# p value is less than 0.05\n",
    "# So, a significance difference exists between estimated and observed outcome in at least one of the grades"
   ]
  },
  {
   "cell_type": "markdown",
   "id": "c05e479c",
   "metadata": {},
   "source": [
    "# •\tDiscriminatory power "
   ]
  },
  {
   "cell_type": "code",
   "execution_count": null,
   "id": "b8d1713b",
   "metadata": {},
   "outputs": [],
   "source": [
    "# first of all, before draw a ROC curve and Calculate the Area under the Curve (AUC) \n",
    "# I would like to calculate gini index which is very effective way to test \n",
    "# Discriminatory power of the model"
   ]
  },
  {
   "cell_type": "code",
   "execution_count": 181,
   "id": "4a90b81e",
   "metadata": {},
   "outputs": [],
   "source": [
    "def Gini(target, pred,):\n",
    "\n",
    "    fpr, tpr, thresholds = roc_curve(target, pred)\n",
    "    roc_auc = auc(fpr, tpr)\n",
    "    GINI = (2 * roc_auc) - 1\n",
    "    return GINI\n"
   ]
  },
  {
   "cell_type": "code",
   "execution_count": 182,
   "id": "4face881",
   "metadata": {},
   "outputs": [
    {
     "data": {
      "text/plain": [
       "0.42259413564193427"
      ]
     },
     "execution_count": 182,
     "metadata": {},
     "output_type": "execute_result"
    }
   ],
   "source": [
    "Gini(data.intodefault , data.PD)"
   ]
  },
  {
   "cell_type": "markdown",
   "id": "a6d806b0",
   "metadata": {},
   "source": [
    "#  calculating auc and ploting roc curve"
   ]
  },
  {
   "cell_type": "code",
   "execution_count": 43,
   "id": "644f437f",
   "metadata": {},
   "outputs": [],
   "source": [
    "def calculate_auc(target, probabilities):\n",
    "    fpr, tpr, _ = roc_curve(target, probabilities)\n",
    "    return auc(fpr, tpr)"
   ]
  },
  {
   "cell_type": "code",
   "execution_count": 185,
   "id": "ae8800ef",
   "metadata": {},
   "outputs": [
    {
     "data": {
      "text/plain": [
       "0.7112970678209671"
      ]
     },
     "execution_count": 185,
     "metadata": {},
     "output_type": "execute_result"
    }
   ],
   "source": [
    "auc_data = calculate_auc(data.intodefault , data.PD)\n",
    "auc_data"
   ]
  },
  {
   "cell_type": "code",
   "execution_count": 37,
   "id": "b0de304d",
   "metadata": {},
   "outputs": [],
   "source": [
    "def plot_roc_curve(target, probabilities):\n",
    "    fpr, tpr, _ = roc_curve(target, probabilities)\n",
    "    roc_auc = auc(fpr, tpr)\n",
    "    plt.figure()\n",
    "    plt.plot(fpr, tpr, label='ROC curve (AUC = {:.2f})'.format(roc_auc))\n",
    "    plt.plot([0, 1], [0, 1], 'k--') \n",
    "    plt.xlabel('False Positive Rate')\n",
    "    plt.ylabel('True Positive Rate')\n",
    "    plt.title('Receiver Operating Characteristic')\n",
    "    plt.legend(loc='lower right')\n",
    "    plt.show()"
   ]
  },
  {
   "cell_type": "code",
   "execution_count": 38,
   "id": "10024a2d",
   "metadata": {},
   "outputs": [
    {
     "data": {
      "image/png": "[encoded data removed]",
      "text/plain": [
       "<Figure size 432x288 with 1 Axes>"
      ]
     },
     "metadata": {
      "needs_background": "light"
     },
     "output_type": "display_data"
    }
   ],
   "source": [
    "plot_roc_curve(data.intodefault , data.PD)"
   ]
  },
  {
   "cell_type": "code",
   "execution_count": null,
   "id": "78fcd984",
   "metadata": {},
   "outputs": [],
   "source": [
    "# The AUC is a rank measure, which means it abstracts from the differences in\n",
    "# the probability scores and only looks at too which extend the\n",
    "# target observations are ranked above non-target observations"
   ]
  },
  {
   "cell_type": "markdown",
   "id": "8cc459c6",
   "metadata": {},
   "source": [
    "# \tCould you explain the test rationale and interpret its value? (If you cannot calculate the test statistic: what would test statistic value of 1.9 mean? The same for S = -1.5)"
   ]
  },
  {
   "cell_type": "code",
   "execution_count": 189,
   "id": "3cea7e88",
   "metadata": {},
   "outputs": [],
   "source": [
    "initial_AUC = 0.75"
   ]
  },
  {
   "cell_type": "code",
   "execution_count": null,
   "id": "99009c8b",
   "metadata": {},
   "outputs": [],
   "source": [
    "A Z-score of 1.9 indicates that the initial AUC is 1.9 standard deviations above\n",
    "the current AUC of 0.71. This suggests strong evidence that initial AUC is better than current.\n",
    "\n",
    "A Z-score of -1.5 indicates that the initial AUC is 1.5 \n",
    "standard deviations below the current AUC. \n",
    "This suggests strong evidence that your model AUC is worse than current AUC."
   ]
  },
  {
   "cell_type": "markdown",
   "id": "77c1ca84",
   "metadata": {},
   "source": [
    "# binomial test"
   ]
  },
  {
   "cell_type": "code",
   "execution_count": 162,
   "id": "51cd76a0",
   "metadata": {},
   "outputs": [
    {
     "name": "stdout",
     "output_type": "stream",
     "text": [
      "The observed default rates are significantly different from the expected range.\n"
     ]
    }
   ],
   "source": [
    "# Perform a binomial test to check if ODR is significantly different from EDR\n",
    "p_value = binom_test(data['intodefault'].sum(), n=data.shape[0], p=data['PD'].mean())\n",
    "\n",
    "# Check if the p-value is less than alpha to determine statistical significance\n",
    "if p_value < 0.05:\n",
    "    print(\"The observed default rates are significantly different from the expected range.\")\n",
    "else:\n",
    "    print(\"The observed default rates are consistent with the expected range.\")\n"
   ]
  },
  {
   "cell_type": "code",
   "execution_count": 176,
   "id": "c29ef046",
   "metadata": {},
   "outputs": [
    {
     "name": "stdout",
     "output_type": "stream",
     "text": [
      "9103\n",
      "3903\n",
      "roughly recall: 0.4287783148412611\n"
     ]
    }
   ],
   "source": [
    "data['EDR'] = data['PD'] * data.shape[0]\n",
    "print(data['ODR'].sum())\n",
    "print(round(data['EDR'].mean()))\n",
    "print('roughly recall:',data['EDR'].mean() / data['ODR'].sum() )"
   ]
  },
  {
   "cell_type": "markdown",
   "id": "7097b104",
   "metadata": {},
   "source": [
    "# Mann-Whitney U statistic"
   ]
  },
  {
   "cell_type": "code",
   "execution_count": 143,
   "id": "1608ce8a",
   "metadata": {},
   "outputs": [
    {
     "name": "stdout",
     "output_type": "stream",
     "text": [
      "Mann-Whitney U statistic: 210927554.5\n",
      "P-value: 0.0\n",
      "Reject the null hypothesis: The groups have significantly different distributions.\n"
     ]
    }
   ],
   "source": [
    "# calculation of Mann-Whitney U statistic to check discriminatory power of the model.\n",
    "group1_probs = data[data['intodefault']==1]['PD'].to_list()\n",
    "group2_probs = data[data['intodefault']==0]['PD'].to_list()\n",
    "\n",
    "# Calculate the Mann-Whitney U statistic and p-value\n",
    "U_statistic, p_value = stats.mannwhitneyu(group1_probs, group2_probs, alternative='two-sided')\n",
    "\n",
    "print(f\"Mann-Whitney U statistic: {U_statistic}\")\n",
    "print(f\"P-value: {p_value}\")\n",
    "\n",
    "alpha = 0.05\n",
    "if p_value < alpha:\n",
    "    print(\"Reject the null hypothesis: The groups have significantly different distributions.\")\n",
    "else:\n",
    "    print(\"Fail to reject the null hypothesis: There is no significant difference in distributions.\")\n"
   ]
  },
  {
   "cell_type": "markdown",
   "id": "e1e48f49",
   "metadata": {},
   "source": [
    "# •\tPlease show / argue how your answer would change if instead the PDs are the corresponding parameter of the ASRF model. You can assume fixed asset correlation of 15%."
   ]
  },
  {
   "cell_type": "code",
   "execution_count": null,
   "id": "9e70ddd9",
   "metadata": {},
   "outputs": [],
   "source": [
    "Because we do not have access to maturity, EAD, and LGD, \n",
    "my answer can change significantly due to the presence of correlation.\n",
    "\n",
    "In the case of customers who have a fixed asset correlation,\n",
    "Asset correlation can influence the joint behavior of defaults in a portfolio,\n",
    "potentially leading to changes in the overall default rates and the way we assess credit risk."
   ]
  },
  {
   "cell_type": "code",
   "execution_count": null,
   "id": "8dd65702",
   "metadata": {},
   "outputs": [],
   "source": []
  },
  {
   "cell_type": "code",
   "execution_count": null,
   "id": "40aeec6d",
   "metadata": {},
   "outputs": [],
   "source": []
  }
 ],
 "metadata": {
  "kernelspec": {
   "display_name": "Python 3 (ipykernel)",
   "language": "python",
   "name": "python3"
  },
  "language_info": {
   "codemirror_mode": {
    "name": "ipython",
    "version": 3
   },
   "file_extension": ".py",
   "mimetype": "text/x-python",
   "name": "python",
   "nbconvert_exporter": "python",
   "pygments_lexer": "ipython3",
   "version": "3.9.12"
  }
 },
 "nbformat": 4,
 "nbformat_minor": 5
}
